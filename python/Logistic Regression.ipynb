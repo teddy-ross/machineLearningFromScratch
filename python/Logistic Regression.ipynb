{
 "cells": [
  {
   "cell_type": "markdown",
   "metadata": {},
   "source": [
    "# Logistic Regression\n",
    "\n",
    "In this notebook, we compare our Linear Regression model built from scratch with the Logistic Regression model from Scikit-learn."
   ]
  },
  {
   "cell_type": "code",
   "execution_count": 1,
   "metadata": {},
   "outputs": [],
   "source": [
    "#import the necessary libraries\n",
    "import pandas as pd\n",
    "import matplotlib.pyplot as plt\n",
    "from sklearn.model_selection import train_test_split\n",
    "from sklearn.linear_model import LogisticRegression\n",
    "import numpy as np"
   ]
  },
  {
   "cell_type": "code",
   "execution_count": 2,
   "metadata": {},
   "outputs": [
    {
     "data": {
      "text/html": [
       "<div>\n",
       "<style scoped>\n",
       "    .dataframe tbody tr th:only-of-type {\n",
       "        vertical-align: middle;\n",
       "    }\n",
       "\n",
       "    .dataframe tbody tr th {\n",
       "        vertical-align: top;\n",
       "    }\n",
       "\n",
       "    .dataframe thead th {\n",
       "        text-align: right;\n",
       "    }\n",
       "</style>\n",
       "<table border=\"1\" class=\"dataframe\">\n",
       "  <thead>\n",
       "    <tr style=\"text-align: right;\">\n",
       "      <th></th>\n",
       "      <th>0</th>\n",
       "      <th>1</th>\n",
       "      <th>2</th>\n",
       "      <th>3</th>\n",
       "      <th>4</th>\n",
       "      <th>5</th>\n",
       "      <th>6</th>\n",
       "      <th>7</th>\n",
       "      <th>8</th>\n",
       "      <th>9</th>\n",
       "      <th>10</th>\n",
       "      <th>11</th>\n",
       "      <th>12</th>\n",
       "      <th>13</th>\n",
       "      <th>14</th>\n",
       "    </tr>\n",
       "  </thead>\n",
       "  <tbody>\n",
       "    <tr>\n",
       "      <td>0</td>\n",
       "      <td>39</td>\n",
       "      <td>0</td>\n",
       "      <td>77516</td>\n",
       "      <td>0</td>\n",
       "      <td>13</td>\n",
       "      <td>0</td>\n",
       "      <td>0</td>\n",
       "      <td>0</td>\n",
       "      <td>0</td>\n",
       "      <td>0</td>\n",
       "      <td>2174</td>\n",
       "      <td>0</td>\n",
       "      <td>40</td>\n",
       "      <td>0</td>\n",
       "      <td>0</td>\n",
       "    </tr>\n",
       "    <tr>\n",
       "      <td>1</td>\n",
       "      <td>50</td>\n",
       "      <td>1</td>\n",
       "      <td>83311</td>\n",
       "      <td>0</td>\n",
       "      <td>13</td>\n",
       "      <td>1</td>\n",
       "      <td>1</td>\n",
       "      <td>1</td>\n",
       "      <td>0</td>\n",
       "      <td>0</td>\n",
       "      <td>0</td>\n",
       "      <td>0</td>\n",
       "      <td>13</td>\n",
       "      <td>0</td>\n",
       "      <td>0</td>\n",
       "    </tr>\n",
       "    <tr>\n",
       "      <td>2</td>\n",
       "      <td>38</td>\n",
       "      <td>2</td>\n",
       "      <td>215646</td>\n",
       "      <td>1</td>\n",
       "      <td>9</td>\n",
       "      <td>2</td>\n",
       "      <td>2</td>\n",
       "      <td>0</td>\n",
       "      <td>0</td>\n",
       "      <td>0</td>\n",
       "      <td>0</td>\n",
       "      <td>0</td>\n",
       "      <td>40</td>\n",
       "      <td>0</td>\n",
       "      <td>0</td>\n",
       "    </tr>\n",
       "    <tr>\n",
       "      <td>3</td>\n",
       "      <td>53</td>\n",
       "      <td>2</td>\n",
       "      <td>234721</td>\n",
       "      <td>2</td>\n",
       "      <td>7</td>\n",
       "      <td>1</td>\n",
       "      <td>2</td>\n",
       "      <td>1</td>\n",
       "      <td>1</td>\n",
       "      <td>0</td>\n",
       "      <td>0</td>\n",
       "      <td>0</td>\n",
       "      <td>40</td>\n",
       "      <td>0</td>\n",
       "      <td>0</td>\n",
       "    </tr>\n",
       "    <tr>\n",
       "      <td>4</td>\n",
       "      <td>28</td>\n",
       "      <td>2</td>\n",
       "      <td>338409</td>\n",
       "      <td>0</td>\n",
       "      <td>13</td>\n",
       "      <td>1</td>\n",
       "      <td>3</td>\n",
       "      <td>2</td>\n",
       "      <td>1</td>\n",
       "      <td>1</td>\n",
       "      <td>0</td>\n",
       "      <td>0</td>\n",
       "      <td>40</td>\n",
       "      <td>1</td>\n",
       "      <td>0</td>\n",
       "    </tr>\n",
       "  </tbody>\n",
       "</table>\n",
       "</div>"
      ],
      "text/plain": [
       "   0   1       2   3   4   5   6   7   8   9     10  11  12  13  14\n",
       "0  39   0   77516   0  13   0   0   0   0   0  2174   0  40   0   0\n",
       "1  50   1   83311   0  13   1   1   1   0   0     0   0  13   0   0\n",
       "2  38   2  215646   1   9   2   2   0   0   0     0   0  40   0   0\n",
       "3  53   2  234721   2   7   1   2   1   1   0     0   0  40   0   0\n",
       "4  28   2  338409   0  13   1   3   2   1   1     0   0  40   1   0"
      ]
     },
     "execution_count": 2,
     "metadata": {},
     "output_type": "execute_result"
    }
   ],
   "source": [
    "# read and print the data\n",
    "data = pd.read_csv(\"../datasets/adult_data.csv\", sep=',', header=None)\n",
    "data.head()"
   ]
  },
  {
   "cell_type": "code",
   "execution_count": 3,
   "metadata": {},
   "outputs": [],
   "source": [
    "# Cost function\n",
    "cost = pd.read_csv('../datasets/cost.txt',header=None)"
   ]
  },
  {
   "cell_type": "code",
   "execution_count": 4,
   "metadata": {},
   "outputs": [
    {
     "data": {
      "image/png": "[encoded data removed]",
      "text/plain": [
       "<Figure size 864x576 with 1 Axes>"
      ]
     },
     "metadata": {
      "needs_background": "light"
     },
     "output_type": "display_data"
    }
   ],
   "source": [
    "fig, ax = plt.subplots(figsize=(12,8))\n",
    "ax.set_xlabel(\"Epoch\")\n",
    "ax.set_ylabel(r\"Cost $J(\\theta)$\")\n",
    "ax.plot(cost)\n",
    "ax.set_title(\"Training Cost vs. Training Epoch for Logistic Regression\")\n",
    "plt.show()"
   ]
  },
  {
   "cell_type": "code",
   "execution_count": 5,
   "metadata": {},
   "outputs": [
    {
     "name": "stdout",
     "output_type": "stream",
     "text": [
      "Data shape: (30162, 14)\n",
      "Labels shape: (30162,)\n",
      "Train Data shape: (24129, 14)\n",
      "Train Labels shape: (24129,)\n",
      "Evaluation Data shape: (6033, 14)\n",
      "Evaluation Labels shape: (6033,)\n"
     ]
    }
   ],
   "source": [
    "#Compare agains Scikit-Learn\n",
    "X = data.iloc[:,0:14]\n",
    "y = data.iloc[:,14]\n",
    "\n",
    "mean_data = X.mean()\n",
    "std_data = X.std()\n",
    "X = ((X-mean_data)/std_data)\n",
    "\n",
    "print(\"Data shape: \" + str(X.shape))\n",
    "print(\"Labels shape: \" + str(y.shape))\n",
    "\n",
    "X_train, X_test, y_train, y_test = train_test_split(X, y, test_size=0.2)\n",
    "\n",
    "print(\"Train Data shape: \" + str(X_train.shape))\n",
    "print(\"Train Labels shape: \" + str(y_train.shape))\n",
    "print(\"Evaluation Data shape: \" + str(X_test.shape))\n",
    "print(\"Evaluation Labels shape: \" + str(y_test.shape))"
   ]
  },
  {
   "cell_type": "code",
   "execution_count": 6,
   "metadata": {},
   "outputs": [
    {
     "data": {
      "text/html": [
       "<div>\n",
       "<style scoped>\n",
       "    .dataframe tbody tr th:only-of-type {\n",
       "        vertical-align: middle;\n",
       "    }\n",
       "\n",
       "    .dataframe tbody tr th {\n",
       "        vertical-align: top;\n",
       "    }\n",
       "\n",
       "    .dataframe thead th {\n",
       "        text-align: right;\n",
       "    }\n",
       "</style>\n",
       "<table border=\"1\" class=\"dataframe\">\n",
       "  <thead>\n",
       "    <tr style=\"text-align: right;\">\n",
       "      <th></th>\n",
       "      <th>0</th>\n",
       "      <th>1</th>\n",
       "      <th>2</th>\n",
       "      <th>3</th>\n",
       "      <th>4</th>\n",
       "      <th>5</th>\n",
       "      <th>6</th>\n",
       "      <th>7</th>\n",
       "      <th>8</th>\n",
       "      <th>9</th>\n",
       "      <th>10</th>\n",
       "      <th>11</th>\n",
       "      <th>12</th>\n",
       "      <th>13</th>\n",
       "    </tr>\n",
       "  </thead>\n",
       "  <tbody>\n",
       "    <tr>\n",
       "      <td>4121</td>\n",
       "      <td>0.195064</td>\n",
       "      <td>-1.186736</td>\n",
       "      <td>-1.514693</td>\n",
       "      <td>0.452728</td>\n",
       "      <td>-0.047573</td>\n",
       "      <td>-0.061649</td>\n",
       "      <td>0.694713</td>\n",
       "      <td>-0.365906</td>\n",
       "      <td>-0.345855</td>\n",
       "      <td>-0.692795</td>\n",
       "      <td>0.529410</td>\n",
       "      <td>-0.218582</td>\n",
       "      <td>2.426444</td>\n",
       "      <td>-0.239234</td>\n",
       "    </tr>\n",
       "    <tr>\n",
       "      <td>28424</td>\n",
       "      <td>0.042795</td>\n",
       "      <td>-0.116971</td>\n",
       "      <td>-0.127917</td>\n",
       "      <td>-0.984145</td>\n",
       "      <td>1.128900</td>\n",
       "      <td>0.759667</td>\n",
       "      <td>0.111996</td>\n",
       "      <td>-1.064240</td>\n",
       "      <td>-0.345855</td>\n",
       "      <td>1.443381</td>\n",
       "      <td>-0.147442</td>\n",
       "      <td>-0.218582</td>\n",
       "      <td>-0.077733</td>\n",
       "      <td>-0.239234</td>\n",
       "    </tr>\n",
       "    <tr>\n",
       "      <td>27744</td>\n",
       "      <td>-1.175356</td>\n",
       "      <td>-0.116971</td>\n",
       "      <td>-1.248387</td>\n",
       "      <td>0.452728</td>\n",
       "      <td>-0.047573</td>\n",
       "      <td>-0.882966</td>\n",
       "      <td>0.694713</td>\n",
       "      <td>-1.064240</td>\n",
       "      <td>-0.345855</td>\n",
       "      <td>-0.692795</td>\n",
       "      <td>-0.147442</td>\n",
       "      <td>-0.218582</td>\n",
       "      <td>-0.912458</td>\n",
       "      <td>-0.239234</td>\n",
       "    </tr>\n",
       "    <tr>\n",
       "      <td>25650</td>\n",
       "      <td>-1.099221</td>\n",
       "      <td>-0.116971</td>\n",
       "      <td>0.124608</td>\n",
       "      <td>1.602227</td>\n",
       "      <td>0.344584</td>\n",
       "      <td>-0.882966</td>\n",
       "      <td>-1.344798</td>\n",
       "      <td>-1.064240</td>\n",
       "      <td>-0.345855</td>\n",
       "      <td>1.443381</td>\n",
       "      <td>-0.147442</td>\n",
       "      <td>-0.218582</td>\n",
       "      <td>-0.077733</td>\n",
       "      <td>-0.239234</td>\n",
       "    </tr>\n",
       "    <tr>\n",
       "      <td>25282</td>\n",
       "      <td>-0.946952</td>\n",
       "      <td>-0.116971</td>\n",
       "      <td>1.026295</td>\n",
       "      <td>-0.696771</td>\n",
       "      <td>-0.439731</td>\n",
       "      <td>-0.061649</td>\n",
       "      <td>-1.344798</td>\n",
       "      <td>-0.365906</td>\n",
       "      <td>-0.345855</td>\n",
       "      <td>-0.692795</td>\n",
       "      <td>-0.147442</td>\n",
       "      <td>-0.218582</td>\n",
       "      <td>0.339630</td>\n",
       "      <td>-0.239234</td>\n",
       "    </tr>\n",
       "  </tbody>\n",
       "</table>\n",
       "</div>"
      ],
      "text/plain": [
       "             0         1         2         3         4         5         6   \\\n",
       "4121   0.195064 -1.186736 -1.514693  0.452728 -0.047573 -0.061649  0.694713   \n",
       "28424  0.042795 -0.116971 -0.127917 -0.984145  1.128900  0.759667  0.111996   \n",
       "27744 -1.175356 -0.116971 -1.248387  0.452728 -0.047573 -0.882966  0.694713   \n",
       "25650 -1.099221 -0.116971  0.124608  1.602227  0.344584 -0.882966 -1.344798   \n",
       "25282 -0.946952 -0.116971  1.026295 -0.696771 -0.439731 -0.061649 -1.344798   \n",
       "\n",
       "             7         8         9         10        11        12        13  \n",
       "4121  -0.365906 -0.345855 -0.692795  0.529410 -0.218582  2.426444 -0.239234  \n",
       "28424 -1.064240 -0.345855  1.443381 -0.147442 -0.218582 -0.077733 -0.239234  \n",
       "27744 -1.064240 -0.345855 -0.692795 -0.147442 -0.218582 -0.912458 -0.239234  \n",
       "25650 -1.064240 -0.345855  1.443381 -0.147442 -0.218582 -0.077733 -0.239234  \n",
       "25282 -0.365906 -0.345855 -0.692795 -0.147442 -0.218582  0.339630 -0.239234  "
      ]
     },
     "execution_count": 6,
     "metadata": {},
     "output_type": "execute_result"
    }
   ],
   "source": [
    "X_train.head()"
   ]
  },
  {
   "cell_type": "code",
   "execution_count": 7,
   "metadata": {},
   "outputs": [],
   "source": [
    "logisticRegr = LogisticRegression(solver='lbfgs')"
   ]
  },
  {
   "cell_type": "code",
   "execution_count": 8,
   "metadata": {},
   "outputs": [
    {
     "data": {
      "text/plain": [
       "LogisticRegression(C=1.0, class_weight=None, dual=False, fit_intercept=True,\n",
       "                   intercept_scaling=1, l1_ratio=None, max_iter=100,\n",
       "                   multi_class='warn', n_jobs=None, penalty='l2',\n",
       "                   random_state=None, solver='lbfgs', tol=0.0001, verbose=0,\n",
       "                   warm_start=False)"
      ]
     },
     "execution_count": 8,
     "metadata": {},
     "output_type": "execute_result"
    }
   ],
   "source": [
    "logisticRegr.fit(X_train, y_train.ravel())"
   ]
  },
  {
   "cell_type": "code",
   "execution_count": 9,
   "metadata": {},
   "outputs": [],
   "source": [
    "pred_train = logisticRegr.predict(X_train)"
   ]
  },
  {
   "cell_type": "code",
   "execution_count": 10,
   "metadata": {},
   "outputs": [],
   "source": [
    "pred_test = logisticRegr.predict(X_test)"
   ]
  },
  {
   "cell_type": "code",
   "execution_count": 11,
   "metadata": {},
   "outputs": [
    {
     "name": "stdout",
     "output_type": "stream",
     "text": [
      "Train Accuracy:  82.1293878735132\n"
     ]
    }
   ],
   "source": [
    "print(\"Train Accuracy: \", 100 - np.mean(np.abs(pred_train - y_train)) * 100)"
   ]
  },
  {
   "cell_type": "code",
   "execution_count": 12,
   "metadata": {},
   "outputs": [
    {
     "name": "stdout",
     "output_type": "stream",
     "text": [
      "Test Accuracy:  81.63434443891927\n"
     ]
    }
   ],
   "source": [
    "print(\"Test Accuracy: \", 100 - np.mean(np.abs(pred_test - y_test)) * 100)"
   ]
  },
  {
   "cell_type": "markdown",
   "metadata": {},
   "source": [
    "Perfect!"
   ]
  },
  {
   "cell_type": "code",
   "execution_count": null,
   "metadata": {},
   "outputs": [],
   "source": []
  }
 ],
 "metadata": {
  "kernelspec": {
   "display_name": "Python 3",
   "language": "python",
   "name": "python3"
  },
  "language_info": {
   "codemirror_mode": {
    "name": "ipython",
    "version": 3
   },
   "file_extension": ".py",
   "mimetype": "text/x-python",
   "name": "python",
   "nbconvert_exporter": "python",
   "pygments_lexer": "ipython3",
   "version": "3.7.4"
  }
 },
 "nbformat": 4,
 "nbformat_minor": 2
}
